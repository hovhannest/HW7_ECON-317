{
 "cells": [
  {
   "cell_type": "code",
   "execution_count": 1,
   "metadata": {
    "collapsed": true
   },
   "outputs": [],
   "source": [
    "from selenium import webdriver\n",
    "from selenium.webdriver.support.ui import Select\n",
    "import time"
   ]
  },
  {
   "cell_type": "code",
   "execution_count": 2,
   "metadata": {
    "collapsed": true
   },
   "outputs": [],
   "source": [
    "import pandas as pd\n",
    "\n",
    "firstData = True\n",
    "def parseRates(browser):\n",
    "    global firstData\n",
    "    data = pd.read_html(browser.find_element_by_class_name(\"rb\").get_attribute('outerHTML'))\n",
    "    data = data[0]\n",
    "    data = data[2:19] # drop columns 0, 1 and row 20\n",
    "    del data[0]\n",
    "    del data[2]\n",
    "    del data[3]\n",
    "    data.columns = [\"name\", \"date\", \"USD_Առք\", \"USD_Վաճ\", \"EUR_Առք\", \"EUR_Վաճ\", \"RUB_Առք\", \"RUB_Վաճ\", \"GBF_Առք\", \"GBF_Վաճ\"]\n",
    "    if firstData:\n",
    "        with open('rates.csv', 'w', encoding=\"utf-8\") as f:\n",
    "            data.to_csv(f, header=True, index=False)\n",
    "            firstData = False\n",
    "    else:\n",
    "        with open('rates.csv', 'a', encoding=\"utf-8\") as f:\n",
    "            data.to_csv(f, header=False, index=False)"
   ]
  },
  {
   "cell_type": "code",
   "execution_count": 3,
   "metadata": {
    "collapsed": true
   },
   "outputs": [],
   "source": [
    "browser = webdriver.Firefox()"
   ]
  },
  {
   "cell_type": "code",
   "execution_count": 4,
   "metadata": {
    "collapsed": true
   },
   "outputs": [],
   "source": [
    "url = 'http://rate.am/en/armenian-dram-exchange-rates/banks/non-cash'\n",
    "browser.get(url)"
   ]
  },
  {
   "cell_type": "code",
   "execution_count": 5,
   "metadata": {
    "collapsed": true
   },
   "outputs": [],
   "source": [
    "datePicker = browser.find_element_by_link_text(\"Rates by previous date\")\n",
    "datePicker.click()"
   ]
  },
  {
   "cell_type": "code",
   "execution_count": 6,
   "metadata": {
    "collapsed": true
   },
   "outputs": [],
   "source": [
    "years = browser.find_element_by_name(\"YearSelector\")\n",
    "yearsCnt = len(years.find_elements_by_tag_name(\"option\"))\n",
    "mntCnt = 12\n",
    "daysCnt = 31\n",
    "hours = browser.find_element_by_id(\"ctl00_Content_RB_dtpick1_dpHours\")\n",
    "hoursCnt = len(hours.find_elements_by_tag_name(\"option\"))"
   ]
  },
  {
   "cell_type": "code",
   "execution_count": 7,
   "metadata": {},
   "outputs": [
    {
     "ename": "KeyboardInterrupt",
     "evalue": "",
     "output_type": "error",
     "traceback": [
      "\u001b[1;31m---------------------------------------------------------------------------\u001b[0m",
      "\u001b[1;31mKeyboardInterrupt\u001b[0m                         Traceback (most recent call last)",
      "\u001b[1;32m<ipython-input-7-112b098d33cf>\u001b[0m in \u001b[0;36m<module>\u001b[1;34m()\u001b[0m\n\u001b[0;32m     39\u001b[0m                 \u001b[0mparseRates\u001b[0m\u001b[1;33m(\u001b[0m\u001b[0mbrowser\u001b[0m\u001b[1;33m)\u001b[0m\u001b[1;33m\u001b[0m\u001b[0m\n\u001b[0;32m     40\u001b[0m                 \u001b[1;31m# be nice...\u001b[0m\u001b[1;33m\u001b[0m\u001b[1;33m\u001b[0m\u001b[0m\n\u001b[1;32m---> 41\u001b[1;33m                 \u001b[0mtime\u001b[0m\u001b[1;33m.\u001b[0m\u001b[0msleep\u001b[0m\u001b[1;33m(\u001b[0m\u001b[1;36m15\u001b[0m\u001b[1;33m)\u001b[0m\u001b[1;33m\u001b[0m\u001b[0m\n\u001b[0m\u001b[0;32m     42\u001b[0m                 \u001b[1;31m#print(\"trying year:\" + str(year)+\" mnt:\"+ str(mnt) + \" day:\" + str(day) + \" hour:\" +str(hour) + \" SUCSESS\")\u001b[0m\u001b[1;33m\u001b[0m\u001b[1;33m\u001b[0m\u001b[0m\n",
      "\u001b[1;31mKeyboardInterrupt\u001b[0m: "
     ]
    }
   ],
   "source": [
    "for year in range(yearsCnt):\n",
    "    for mnt in range(mntCnt):\n",
    "        for day in range(1, daysCnt):\n",
    "            for hour in range(hoursCnt):\n",
    "                datePicker = browser.find_element_by_link_text(\"Rates by previous date\")\n",
    "                datePicker.click()\n",
    "                time.sleep(.5)\n",
    "                \n",
    "                years = browser.find_element_by_name(\"YearSelector\")\n",
    "                selectYear = Select(years)\n",
    "                selectYear.select_by_index(year)\n",
    "                time.sleep(.5)\n",
    "\n",
    "                mnts = browser.find_element_by_name(\"MonthSelector\")\n",
    "                selectMnt = Select(mnts)\n",
    "                selectMnt.select_by_index(mnt)\n",
    "                time.sleep(.5)\n",
    "                try:\n",
    "                    dayLbl = browser.find_element_by_xpath(\"//td[@class='calTD' and text()='\" + str(day) + \"']\")\n",
    "                    dayLbl.click() \n",
    "                    time.sleep(.5)                   \n",
    "                except:\n",
    "                    try:\n",
    "                        dayLbl = browser.find_element_by_xpath(\"//font[@class='calR' and text()='\" + str(day) + \"']\")\n",
    "                        dayLbl.click() \n",
    "                        time.sleep(.5)  \n",
    "                    except:\n",
    "                        #print(\"trying year:\" + str(year)+\" mnt:\"+ str(mnt) + \" day:\" + str(day) + \" hour:\" +str(hour) + \" FAILED\")\n",
    "                        break\n",
    "\n",
    "                hours = browser.find_element_by_id(\"ctl00_Content_RB_dtpick1_dpHours\")\n",
    "                selectHour = Select(hours)\n",
    "                selectHour.select_by_index(hour)\n",
    "                time.sleep(.5)\n",
    "\n",
    "                submitBtn = browser.find_element_by_id(\"ctl00_Content_RB_dtpick1_btnOk\")\n",
    "                submitBtn.click()\n",
    "\n",
    "                parseRates(browser)\n",
    "                # be nice...\n",
    "                time.sleep(15)\n",
    "                #print(\"trying year:\" + str(year)+\" mnt:\"+ str(mnt) + \" day:\" + str(day) + \" hour:\" +str(hour) + \" SUCSESS\")"
   ]
  },
  {
   "cell_type": "code",
   "execution_count": 8,
   "metadata": {
    "collapsed": true
   },
   "outputs": [],
   "source": [
    "browser.close()"
   ]
  },
  {
   "cell_type": "code",
   "execution_count": null,
   "metadata": {
    "collapsed": true
   },
   "outputs": [],
   "source": []
  }
 ],
 "metadata": {
  "kernelspec": {
   "display_name": "Python 3",
   "language": "python",
   "name": "python3"
  },
  "language_info": {
   "codemirror_mode": {
    "name": "ipython",
    "version": 3
   },
   "file_extension": ".py",
   "mimetype": "text/x-python",
   "name": "python",
   "nbconvert_exporter": "python",
   "pygments_lexer": "ipython3",
   "version": "3.5.2"
  }
 },
 "nbformat": 4,
 "nbformat_minor": 2
}
