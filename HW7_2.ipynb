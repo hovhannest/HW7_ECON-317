{
 "cells": [
  {
   "cell_type": "code",
   "execution_count": 1,
   "metadata": {
    "collapsed": true
   },
   "outputs": [],
   "source": [
    "from selenium import webdriver\n",
    "from selenium.webdriver.support.ui import Select\n",
    "import time"
   ]
  },
  {
   "cell_type": "code",
   "execution_count": 2,
   "metadata": {
    "collapsed": true
   },
   "outputs": [],
   "source": [
    "itensCount = 0\n",
    "summPrice = 0.0\n",
    "def parseTrainings(browser):\n",
    "    global itensCount\n",
    "    global summPrice\n",
    "    summPage = 0.0\n",
    "    itensCount += len(browser.find_elements_by_class_name(\"job-list-item\"))\n",
    "    # prices are dublicated. One for mobile, and one for desktop, but one is hidden\n",
    "    # we can also find <div class=\"training-price job-inner\">, then class=\"currency\"\n",
    "    for p in browser.find_elements_by_class_name(\"currency\"):\n",
    "        p = p.text.replace(\",\", \"\")\n",
    "        try:\n",
    "            summPage += float(p)\n",
    "        except:\n",
    "            pass\n",
    "    summPrice += summPage"
   ]
  },
  {
   "cell_type": "code",
   "execution_count": 3,
   "metadata": {
    "collapsed": true
   },
   "outputs": [],
   "source": [
    "browser = webdriver.Firefox()"
   ]
  },
  {
   "cell_type": "code",
   "execution_count": 4,
   "metadata": {
    "collapsed": true
   },
   "outputs": [],
   "source": [
    "url = 'https://staff.am/en'\n",
    "browser.get(url)"
   ]
  },
  {
   "cell_type": "code",
   "execution_count": 5,
   "metadata": {
    "collapsed": true
   },
   "outputs": [],
   "source": [
    "Trainings = browser.find_element_by_link_text(\"Trainings\")\n",
    "Trainings.click()"
   ]
  },
  {
   "cell_type": "code",
   "execution_count": 6,
   "metadata": {
    "collapsed": true
   },
   "outputs": [],
   "source": [
    "while True:\n",
    "    parseTrainings(browser)\n",
    "    try:\n",
    "        nextLink = browser.find_element_by_link_text(\"2\")\n",
    "        nextLink.click()\n",
    "    except:\n",
    "        break"
   ]
  },
  {
   "cell_type": "code",
   "execution_count": 7,
   "metadata": {
    "collapsed": true
   },
   "outputs": [],
   "source": [
    "browser.close()"
   ]
  },
  {
   "cell_type": "code",
   "execution_count": 8,
   "metadata": {},
   "outputs": [
    {
     "name": "stdout",
     "output_type": "stream",
     "text": [
      "25100.0\n"
     ]
    }
   ],
   "source": [
    "print(summPrice/itensCount)"
   ]
  },
  {
   "cell_type": "code",
   "execution_count": null,
   "metadata": {
    "collapsed": true
   },
   "outputs": [],
   "source": []
  }
 ],
 "metadata": {
  "kernelspec": {
   "display_name": "Python 3",
   "language": "python",
   "name": "python3"
  },
  "language_info": {
   "codemirror_mode": {
    "name": "ipython",
    "version": 3
   },
   "file_extension": ".py",
   "mimetype": "text/x-python",
   "name": "python",
   "nbconvert_exporter": "python",
   "pygments_lexer": "ipython3",
   "version": "3.5.2"
  }
 },
 "nbformat": 4,
 "nbformat_minor": 2
}
