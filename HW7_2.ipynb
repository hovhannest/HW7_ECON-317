{
 "cells": [
  {
   "cell_type": "code",
   "execution_count": 1,
   "metadata": {
    "collapsed": true
   },
   "outputs": [],
   "source": [
    "from selenium import webdriver\n",
    "from selenium.webdriver.support.ui import Select\n",
    "import time"
   ]
  },
  {
   "cell_type": "code",
   "execution_count": 12,
   "metadata": {
    "collapsed": true
   },
   "outputs": [],
   "source": [
    "itensCount = 0\n",
    "summPrice = 0.0\n",
    "def parseTrainings(browser):\n",
    "    global itensCount\n",
    "    global summPrice\n",
    "    summPage = 0.0\n",
    "    itensCount += len(browser.find_elements_by_class_name(\"job-list-item\"))\n",
    "    # prices are dublicated. One for mobile, and one for desktop, but one is hidden\n",
    "    # we can also find <div class=\"training-price job-inner\">, then class=\"currency\"\n",
    "    for p in browser.find_elements_by_class_name(\"currency\"):\n",
    "        p = p.text.replace(\",\", \"\")\n",
    "        try:\n",
    "            summPage += float(p)\n",
    "        except:\n",
    "            pass\n",
    "    summPrice += summPage"
   ]
  },
  {
   "cell_type": "code",
   "execution_count": 13,
   "metadata": {
    "collapsed": true
   },
   "outputs": [],
   "source": [
    "browser = webdriver.Chrome()"
   ]
  },
  {
   "cell_type": "code",
   "execution_count": 14,
   "metadata": {
    "collapsed": true
   },
   "outputs": [],
   "source": [
    "url = 'https://staff.am/en'\n",
    "browser.get(url)"
   ]
  },
  {
   "cell_type": "code",
   "execution_count": 15,
   "metadata": {},
   "outputs": [],
   "source": [
    "Trainings = browser.find_element_by_xpath('//*[@id=\"menu-header\"]/li[2]/a')\n",
    "Trainings.click()"
   ]
  },
  {
   "cell_type": "code",
   "execution_count": 16,
   "metadata": {},
   "outputs": [],
   "source": [
    "nextPage = 2\n",
    "while True:\n",
    "    parseTrainings(browser)\n",
    "    try:\n",
    "        nextLink = browser.find_element_by_link_text(str(nextPage))\n",
    "        nextLink.click()\n",
    "        nextPage += 1\n",
    "    except:\n",
    "        break"
   ]
  },
  {
   "cell_type": "code",
   "execution_count": 17,
   "metadata": {
    "collapsed": true
   },
   "outputs": [],
   "source": [
    "browser.close()"
   ]
  },
  {
   "cell_type": "code",
   "execution_count": 18,
   "metadata": {},
   "outputs": [
    {
     "name": "stdout",
     "output_type": "stream",
     "text": [
      "34795.65217391304\n"
     ]
    }
   ],
   "source": [
    "print(summPrice/itensCount)"
   ]
  },
  {
   "cell_type": "code",
   "execution_count": null,
   "metadata": {
    "collapsed": true
   },
   "outputs": [],
   "source": []
  }
 ],
 "metadata": {
  "kernelspec": {
   "display_name": "Python 3",
   "language": "python",
   "name": "python3"
  },
  "language_info": {
   "codemirror_mode": {
    "name": "ipython",
    "version": 3
   },
   "file_extension": ".py",
   "mimetype": "text/x-python",
   "name": "python",
   "nbconvert_exporter": "python",
   "pygments_lexer": "ipython3",
   "version": "3.5.1"
  }
 },
 "nbformat": 4,
 "nbformat_minor": 2
}
